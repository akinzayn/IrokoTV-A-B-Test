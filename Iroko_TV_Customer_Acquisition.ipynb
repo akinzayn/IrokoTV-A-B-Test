{
  "nbformat": 4,
  "nbformat_minor": 0,
  "metadata": {
    "colab": {
      "provenance": [],
      "authorship_tag": "ABX9TyMnj0dCNq9IkalSXtEXmw40",
      "include_colab_link": true
    },
    "kernelspec": {
      "name": "ir",
      "display_name": "R"
    },
    "language_info": {
      "name": "R"
    }
  },
  "cells": [
    {
      "cell_type": "markdown",
      "metadata": {
        "id": "view-in-github",
        "colab_type": "text"
      },
      "source": [
        "<a href=\"https://colab.research.google.com/github/akinzayn/IrokoTV-A-B-Testing/blob/main/Iroko_TV_Customer_Acquisition.ipynb\" target=\"_parent\"><img src=\"https://colab.research.google.com/assets/colab-badge.svg\" alt=\"Open In Colab\"/></a>"
      ]
    },
    {
      "cell_type": "code",
      "execution_count": null,
      "metadata": {
        "colab": {
          "base_uri": "https://localhost:8080/"
        },
        "id": "Sm1BVag64m4p",
        "outputId": "ab7e05c9-fe54-4c7d-afeb-7499fe52ca56"
      },
      "outputs": [
        {
          "output_type": "stream",
          "name": "stderr",
          "text": [
            "Installing package into ‘/usr/local/lib/R/site-library’\n",
            "(as ‘lib’ is unspecified)\n",
            "\n"
          ]
        }
      ],
      "source": [
        "install.packages(\"pacman\") \n",
        "library(pacman) "
      ]
    },
    {
      "cell_type": "code",
      "source": [
        "p_load(tidyverse, googledrive,readxl,writexl, rstatix) \n"
      ],
      "metadata": {
        "id": "tEFnA7nW-enP"
      },
      "execution_count": null,
      "outputs": []
    },
    {
      "cell_type": "code",
      "source": [
        "install.packages(\"rstatix\", repos = \"https://cloud.r-project.org\")"
      ],
      "metadata": {
        "colab": {
          "base_uri": "https://localhost:8080/"
        },
        "id": "wwxlJtnuvGPY",
        "outputId": "7c4c6fd2-1e87-497f-8f27-f05829514bf3"
      },
      "execution_count": null,
      "outputs": [
        {
          "output_type": "stream",
          "name": "stderr",
          "text": [
            "Installing package into ‘/usr/local/lib/R/site-library’\n",
            "(as ‘lib’ is unspecified)\n",
            "\n",
            "also installing the dependencies ‘nloptr’, ‘pbkrtest’, ‘lme4’, ‘car’\n",
            "\n",
            "\n",
            "Warning message in install.packages(\"rstatix\", repos = \"https://cloud.r-project.org\"):\n",
            "“installation of package ‘nloptr’ had non-zero exit status”\n",
            "Warning message in install.packages(\"rstatix\", repos = \"https://cloud.r-project.org\"):\n",
            "“installation of package ‘lme4’ had non-zero exit status”\n",
            "Warning message in install.packages(\"rstatix\", repos = \"https://cloud.r-project.org\"):\n",
            "“installation of package ‘pbkrtest’ had non-zero exit status”\n",
            "Warning message in install.packages(\"rstatix\", repos = \"https://cloud.r-project.org\"):\n",
            "“installation of package ‘car’ had non-zero exit status”\n",
            "Warning message in install.packages(\"rstatix\", repos = \"https://cloud.r-project.org\"):\n",
            "“installation of package ‘rstatix’ had non-zero exit status”\n"
          ]
        }
      ]
    },
    {
      "cell_type": "code",
      "source": [
        "drive_deauth() \n",
        "file_details = drive_get(as_id(c(\"1R10HMbT3MhpUZM0sFEKuHHoaCAkpoO7tUWN8hAD75rc\",\"1nMlw4W2DbDQJEnuVZXqtmIm0krueU0gp6Qvwde2NbG4\"))) #get the link associated to the file on google doc\n",
        "for(i in 1:2){\n",
        "drive_download(file_details[i,], overwrite = TRUE)}\n"
      ],
      "metadata": {
        "colab": {
          "base_uri": "https://localhost:8080/"
        },
        "id": "rUMaTWUy-9Hf",
        "outputId": "48582c2a-f789-49da-b801-bb35ad5be303"
      },
      "execution_count": null,
      "outputs": [
        {
          "output_type": "stream",
          "name": "stderr",
          "text": [
            "File downloaded:\n",
            "\n",
            "\u001b[36m•\u001b[39m \u001b[36msubscriptions\u001b[39m \u001b[90m<id: 1R10HMbT3MhpUZM0sFEKuHHoaCAkpoO7tUWN8hAD75rc>\u001b[39m\n",
            "\n",
            "Saved locally as:\n",
            "\n",
            "\u001b[36m•\u001b[39m \u001b[34msubscriptions.xlsx\u001b[39m\n",
            "\n",
            "File downloaded:\n",
            "\n",
            "\u001b[36m•\u001b[39m \u001b[36mvisits\u001b[39m \u001b[90m<id: 1nMlw4W2DbDQJEnuVZXqtmIm0krueU0gp6Qvwde2NbG4>\u001b[39m\n",
            "\n",
            "Saved locally as:\n",
            "\n",
            "\u001b[36m•\u001b[39m \u001b[34mvisits.xlsx\u001b[39m\n",
            "\n"
          ]
        }
      ]
    },
    {
      "cell_type": "code",
      "source": [
        "rm(list = ls())"
      ],
      "metadata": {
        "id": "TryInY0gd4yY"
      },
      "execution_count": null,
      "outputs": []
    },
    {
      "cell_type": "code",
      "source": [
        "fig <- function(width = 6, heigth = 6){\n",
        "     options(repr.plot.width = width, repr.plot.height = heigth)\n",
        "}\n",
        "fig(width = 12, heigth = 6.75)"
      ],
      "metadata": {
        "id": "NOl6EafZXhlw"
      },
      "execution_count": null,
      "outputs": []
    },
    {
      "cell_type": "code",
      "source": [
        "subscriptions_df = read_excel(\"subscriptions.xlsx\") \n",
        "visits_df = read_excel(\"visits.xlsx\")"
      ],
      "metadata": {
        "id": "Q5S8W0UEZ0u5"
      },
      "execution_count": null,
      "outputs": []
    },
    {
      "cell_type": "code",
      "source": [
        "head(visits_df,1)"
      ],
      "metadata": {
        "colab": {
          "base_uri": "https://localhost:8080/",
          "height": 129
        },
        "id": "_WPyNCZGBgcl",
        "outputId": "6120e436-c67b-4964-85c8-6813514f4bb1"
      },
      "execution_count": null,
      "outputs": [
        {
          "output_type": "display_data",
          "data": {
            "text/html": [
              "<table class=\"dataframe\">\n",
              "<caption>A tibble: 1 × 7</caption>\n",
              "<thead>\n",
              "\t<tr><th scope=col>visit_id</th><th scope=col>account_id</th><th scope=col>day</th><th scope=col>region</th><th scope=col>language</th><th scope=col>channel</th><th scope=col>landing_page</th></tr>\n",
              "\t<tr><th scope=col>&lt;chr&gt;</th><th scope=col>&lt;chr&gt;</th><th scope=col>&lt;dttm&gt;</th><th scope=col>&lt;chr&gt;</th><th scope=col>&lt;chr&gt;</th><th scope=col>&lt;chr&gt;</th><th scope=col>&lt;chr&gt;</th></tr>\n",
              "</thead>\n",
              "<tbody>\n",
              "\t<tr><td>4b987205-5da4-403c-b7d4-b952db264794</td><td>914fddea-7a72-4712-82dd-5b4590f9b670</td><td>2019-01-01</td><td>US/Canada</td><td>English</td><td>video</td><td>A</td></tr>\n",
              "</tbody>\n",
              "</table>\n"
            ],
            "text/markdown": "\nA tibble: 1 × 7\n\n| visit_id &lt;chr&gt; | account_id &lt;chr&gt; | day &lt;dttm&gt; | region &lt;chr&gt; | language &lt;chr&gt; | channel &lt;chr&gt; | landing_page &lt;chr&gt; |\n|---|---|---|---|---|---|---|\n| 4b987205-5da4-403c-b7d4-b952db264794 | 914fddea-7a72-4712-82dd-5b4590f9b670 | 2019-01-01 | US/Canada | English | video | A |\n\n",
            "text/latex": "A tibble: 1 × 7\n\\begin{tabular}{lllllll}\n visit\\_id & account\\_id & day & region & language & channel & landing\\_page\\\\\n <chr> & <chr> & <dttm> & <chr> & <chr> & <chr> & <chr>\\\\\n\\hline\n\t 4b987205-5da4-403c-b7d4-b952db264794 & 914fddea-7a72-4712-82dd-5b4590f9b670 & 2019-01-01 & US/Canada & English & video & A\\\\\n\\end{tabular}\n",
            "text/plain": [
              "  visit_id                             account_id                          \n",
              "1 4b987205-5da4-403c-b7d4-b952db264794 914fddea-7a72-4712-82dd-5b4590f9b670\n",
              "  day        region    language channel landing_page\n",
              "1 2019-01-01 US/Canada English  video   A           "
            ]
          },
          "metadata": {}
        }
      ]
    },
    {
      "cell_type": "code",
      "source": [
        "data_df =  subscriptions_df %>% left_join( visits_df) \n",
        "data_df %>% head(6) \n",
        "dim(data_df)"
      ],
      "metadata": {
        "colab": {
          "base_uri": "https://localhost:8080/",
          "height": 654
        },
        "id": "4ZCt8rQczYVJ",
        "outputId": "9a41651c-ed3b-4fe1-a160-b29025decfc4"
      },
      "execution_count": null,
      "outputs": [
        {
          "output_type": "stream",
          "name": "stderr",
          "text": [
            "\u001b[1m\u001b[22mJoining, by = \"account_id\"\n"
          ]
        },
        {
          "output_type": "display_data",
          "data": {
            "text/html": [
              "<table class=\"dataframe\">\n",
              "<caption>A tibble: 6 × 13</caption>\n",
              "<thead>\n",
              "\t<tr><th scope=col>subscription_id</th><th scope=col>account_id</th><th scope=col>subscription_start_date</th><th scope=col>subscription_end_date</th><th scope=col>trial_start_date</th><th scope=col>trial_end_date</th><th scope=col>revenue</th><th scope=col>visit_id</th><th scope=col>day</th><th scope=col>region</th><th scope=col>language</th><th scope=col>channel</th><th scope=col>landing_page</th></tr>\n",
              "\t<tr><th scope=col>&lt;chr&gt;</th><th scope=col>&lt;chr&gt;</th><th scope=col>&lt;dttm&gt;</th><th scope=col>&lt;dttm&gt;</th><th scope=col>&lt;dttm&gt;</th><th scope=col>&lt;dttm&gt;</th><th scope=col>&lt;dbl&gt;</th><th scope=col>&lt;chr&gt;</th><th scope=col>&lt;dttm&gt;</th><th scope=col>&lt;chr&gt;</th><th scope=col>&lt;chr&gt;</th><th scope=col>&lt;chr&gt;</th><th scope=col>&lt;chr&gt;</th></tr>\n",
              "</thead>\n",
              "<tbody>\n",
              "\t<tr><td>96d87f27-c4e3-401e-9efd-795834b12e1b</td><td>914fddea-7a72-4712-82dd-5b4590f9b670</td><td>2019-01-08</td><td>2020-01-08</td><td>2019-01-01</td><td>2019-01-08</td><td>1016.28</td><td>4b987205-5da4-403c-b7d4-b952db264794</td><td>2019-01-01</td><td>US/Canada</td><td>English</td><td>video         </td><td>A</td></tr>\n",
              "\t<tr><td>91838d2f-5cc1-448c-95d2-05dce13f0090</td><td>7e6ccf6b-16e1-4ea1-9057-ead81ac1cedd</td><td>2019-01-01</td><td>2020-01-01</td><td>NA</td><td>NA</td><td> 755.67</td><td>93d005cd-2990-4432-ae98-bd11c9c28f63</td><td>2019-01-01</td><td>US/Canada</td><td>English</td><td>organic search</td><td>G</td></tr>\n",
              "\t<tr><td>7cb08fd7-9440-4a17-9cbd-674954d9b1c5</td><td>f7b65b83-2e33-4926-b36a-f37fead86623</td><td>2019-01-01</td><td>2020-01-01</td><td>NA</td><td>NA</td><td> 999.89</td><td>d2bd6d7a-0f61-4323-8bbc-1e934a7368fd</td><td>2019-01-01</td><td>US/Canada</td><td>English</td><td>organic search</td><td>H</td></tr>\n",
              "\t<tr><td>ab2b038d-e56c-4102-8662-dedbff889235</td><td>f9b33d91-66d1-485c-8c6e-d27bdb46d605</td><td>2019-01-08</td><td>2020-01-08</td><td>2019-01-01</td><td>2019-01-08</td><td> 971.82</td><td>83674a56-2bc3-47ed-95ee-598ee782d333</td><td>2019-01-01</td><td>US/Canada</td><td>English</td><td>paid search   </td><td>E</td></tr>\n",
              "\t<tr><td>183c7790-06fb-40f8-acf4-f3c78db265fd</td><td>c5124861-4163-409d-a419-c87681537371</td><td>2019-01-02</td><td>2020-01-02</td><td>NA</td><td>NA</td><td>1280.93</td><td>a6cb6fcf-50e9-4513-bad9-131172cfe9ca</td><td>2019-01-02</td><td>US/Canada</td><td>English</td><td>display       </td><td>G</td></tr>\n",
              "\t<tr><td>0adab5fa-ec35-4e1e-9da5-70bd45d684f6</td><td>c0463e2b-ca34-4f2c-b50f-a418df8923de</td><td>NA</td><td>NA</td><td>2019-01-02</td><td>2019-01-09</td><td>     NA</td><td>93d4347a-a0cf-4b2e-a32c-d384669da376</td><td>2019-01-02</td><td>US/Canada</td><td>English</td><td>paid search   </td><td>A</td></tr>\n",
              "</tbody>\n",
              "</table>\n"
            ],
            "text/markdown": "\nA tibble: 6 × 13\n\n| subscription_id &lt;chr&gt; | account_id &lt;chr&gt; | subscription_start_date &lt;dttm&gt; | subscription_end_date &lt;dttm&gt; | trial_start_date &lt;dttm&gt; | trial_end_date &lt;dttm&gt; | revenue &lt;dbl&gt; | visit_id &lt;chr&gt; | day &lt;dttm&gt; | region &lt;chr&gt; | language &lt;chr&gt; | channel &lt;chr&gt; | landing_page &lt;chr&gt; |\n|---|---|---|---|---|---|---|---|---|---|---|---|---|\n| 96d87f27-c4e3-401e-9efd-795834b12e1b | 914fddea-7a72-4712-82dd-5b4590f9b670 | 2019-01-08 | 2020-01-08 | 2019-01-01 | 2019-01-08 | 1016.28 | 4b987205-5da4-403c-b7d4-b952db264794 | 2019-01-01 | US/Canada | English | video          | A |\n| 91838d2f-5cc1-448c-95d2-05dce13f0090 | 7e6ccf6b-16e1-4ea1-9057-ead81ac1cedd | 2019-01-01 | 2020-01-01 | NA | NA |  755.67 | 93d005cd-2990-4432-ae98-bd11c9c28f63 | 2019-01-01 | US/Canada | English | organic search | G |\n| 7cb08fd7-9440-4a17-9cbd-674954d9b1c5 | f7b65b83-2e33-4926-b36a-f37fead86623 | 2019-01-01 | 2020-01-01 | NA | NA |  999.89 | d2bd6d7a-0f61-4323-8bbc-1e934a7368fd | 2019-01-01 | US/Canada | English | organic search | H |\n| ab2b038d-e56c-4102-8662-dedbff889235 | f9b33d91-66d1-485c-8c6e-d27bdb46d605 | 2019-01-08 | 2020-01-08 | 2019-01-01 | 2019-01-08 |  971.82 | 83674a56-2bc3-47ed-95ee-598ee782d333 | 2019-01-01 | US/Canada | English | paid search    | E |\n| 183c7790-06fb-40f8-acf4-f3c78db265fd | c5124861-4163-409d-a419-c87681537371 | 2019-01-02 | 2020-01-02 | NA | NA | 1280.93 | a6cb6fcf-50e9-4513-bad9-131172cfe9ca | 2019-01-02 | US/Canada | English | display        | G |\n| 0adab5fa-ec35-4e1e-9da5-70bd45d684f6 | c0463e2b-ca34-4f2c-b50f-a418df8923de | NA | NA | 2019-01-02 | 2019-01-09 |      NA | 93d4347a-a0cf-4b2e-a32c-d384669da376 | 2019-01-02 | US/Canada | English | paid search    | A |\n\n",
            "text/latex": "A tibble: 6 × 13\n\\begin{tabular}{lllllllllllll}\n subscription\\_id & account\\_id & subscription\\_start\\_date & subscription\\_end\\_date & trial\\_start\\_date & trial\\_end\\_date & revenue & visit\\_id & day & region & language & channel & landing\\_page\\\\\n <chr> & <chr> & <dttm> & <dttm> & <dttm> & <dttm> & <dbl> & <chr> & <dttm> & <chr> & <chr> & <chr> & <chr>\\\\\n\\hline\n\t 96d87f27-c4e3-401e-9efd-795834b12e1b & 914fddea-7a72-4712-82dd-5b4590f9b670 & 2019-01-08 & 2020-01-08 & 2019-01-01 & 2019-01-08 & 1016.28 & 4b987205-5da4-403c-b7d4-b952db264794 & 2019-01-01 & US/Canada & English & video          & A\\\\\n\t 91838d2f-5cc1-448c-95d2-05dce13f0090 & 7e6ccf6b-16e1-4ea1-9057-ead81ac1cedd & 2019-01-01 & 2020-01-01 & NA & NA &  755.67 & 93d005cd-2990-4432-ae98-bd11c9c28f63 & 2019-01-01 & US/Canada & English & organic search & G\\\\\n\t 7cb08fd7-9440-4a17-9cbd-674954d9b1c5 & f7b65b83-2e33-4926-b36a-f37fead86623 & 2019-01-01 & 2020-01-01 & NA & NA &  999.89 & d2bd6d7a-0f61-4323-8bbc-1e934a7368fd & 2019-01-01 & US/Canada & English & organic search & H\\\\\n\t ab2b038d-e56c-4102-8662-dedbff889235 & f9b33d91-66d1-485c-8c6e-d27bdb46d605 & 2019-01-08 & 2020-01-08 & 2019-01-01 & 2019-01-08 &  971.82 & 83674a56-2bc3-47ed-95ee-598ee782d333 & 2019-01-01 & US/Canada & English & paid search    & E\\\\\n\t 183c7790-06fb-40f8-acf4-f3c78db265fd & c5124861-4163-409d-a419-c87681537371 & 2019-01-02 & 2020-01-02 & NA & NA & 1280.93 & a6cb6fcf-50e9-4513-bad9-131172cfe9ca & 2019-01-02 & US/Canada & English & display        & G\\\\\n\t 0adab5fa-ec35-4e1e-9da5-70bd45d684f6 & c0463e2b-ca34-4f2c-b50f-a418df8923de & NA & NA & 2019-01-02 & 2019-01-09 &      NA & 93d4347a-a0cf-4b2e-a32c-d384669da376 & 2019-01-02 & US/Canada & English & paid search    & A\\\\\n\\end{tabular}\n",
            "text/plain": [
              "  subscription_id                      account_id                          \n",
              "1 96d87f27-c4e3-401e-9efd-795834b12e1b 914fddea-7a72-4712-82dd-5b4590f9b670\n",
              "2 91838d2f-5cc1-448c-95d2-05dce13f0090 7e6ccf6b-16e1-4ea1-9057-ead81ac1cedd\n",
              "3 7cb08fd7-9440-4a17-9cbd-674954d9b1c5 f7b65b83-2e33-4926-b36a-f37fead86623\n",
              "4 ab2b038d-e56c-4102-8662-dedbff889235 f9b33d91-66d1-485c-8c6e-d27bdb46d605\n",
              "5 183c7790-06fb-40f8-acf4-f3c78db265fd c5124861-4163-409d-a419-c87681537371\n",
              "6 0adab5fa-ec35-4e1e-9da5-70bd45d684f6 c0463e2b-ca34-4f2c-b50f-a418df8923de\n",
              "  subscription_start_date subscription_end_date trial_start_date trial_end_date\n",
              "1 2019-01-08              2020-01-08            2019-01-01       2019-01-08    \n",
              "2 2019-01-01              2020-01-01            <NA>             <NA>          \n",
              "3 2019-01-01              2020-01-01            <NA>             <NA>          \n",
              "4 2019-01-08              2020-01-08            2019-01-01       2019-01-08    \n",
              "5 2019-01-02              2020-01-02            <NA>             <NA>          \n",
              "6 <NA>                    <NA>                  2019-01-02       2019-01-09    \n",
              "  revenue visit_id                             day        region    language\n",
              "1 1016.28 4b987205-5da4-403c-b7d4-b952db264794 2019-01-01 US/Canada English \n",
              "2  755.67 93d005cd-2990-4432-ae98-bd11c9c28f63 2019-01-01 US/Canada English \n",
              "3  999.89 d2bd6d7a-0f61-4323-8bbc-1e934a7368fd 2019-01-01 US/Canada English \n",
              "4  971.82 83674a56-2bc3-47ed-95ee-598ee782d333 2019-01-01 US/Canada English \n",
              "5 1280.93 a6cb6fcf-50e9-4513-bad9-131172cfe9ca 2019-01-02 US/Canada English \n",
              "6      NA 93d4347a-a0cf-4b2e-a32c-d384669da376 2019-01-02 US/Canada English \n",
              "  channel        landing_page\n",
              "1 video          A           \n",
              "2 organic search G           \n",
              "3 organic search H           \n",
              "4 paid search    E           \n",
              "5 display        G           \n",
              "6 paid search    A           "
            ]
          },
          "metadata": {}
        },
        {
          "output_type": "display_data",
          "data": {
            "text/html": [
              "<style>\n",
              ".list-inline {list-style: none; margin:0; padding: 0}\n",
              ".list-inline>li {display: inline-block}\n",
              ".list-inline>li:not(:last-child)::after {content: \"\\00b7\"; padding: 0 .5ex}\n",
              "</style>\n",
              "<ol class=list-inline><li>13612</li><li>13</li></ol>\n"
            ],
            "text/markdown": "1. 13612\n2. 13\n\n\n",
            "text/latex": "\\begin{enumerate*}\n\\item 13612\n\\item 13\n\\end{enumerate*}\n",
            "text/plain": [
              "[1] 13612    13"
            ]
          },
          "metadata": {}
        }
      ]
    },
    {
      "cell_type": "code",
      "source": [
        "length(unique(data_df$day))"
      ],
      "metadata": {
        "colab": {
          "base_uri": "https://localhost:8080/",
          "height": 34
        },
        "id": "xvAw-Hrq8gL9",
        "outputId": "2ede0510-6405-4e0a-811a-4e89ab52bf7c"
      },
      "execution_count": null,
      "outputs": [
        {
          "output_type": "display_data",
          "data": {
            "text/html": [
              "731"
            ],
            "text/markdown": "731",
            "text/latex": "731",
            "text/plain": [
              "[1] 731"
            ]
          },
          "metadata": {}
        }
      ]
    },
    {
      "cell_type": "markdown",
      "source": [
        "**Q 1: How much revenue did each region generate within the time frame covered by\n",
        "the data sets?**"
      ],
      "metadata": {
        "id": "0CQU___UjVe7"
      }
    },
    {
      "cell_type": "code",
      "source": [
        "group_rev = data_df %>% group_by(region) %>% #pass the arguement region to the function group_by in the dataframe, then assign it to group_rev\n",
        "            summarise(revenue = sum(revenue,na.rm = TRUE)) #add the sum of rev and remove missing values\n",
        "group_rev %>% arrange(desc(revenue))"
      ],
      "metadata": {
        "colab": {
          "base_uri": "https://localhost:8080/",
          "height": 255
        },
        "id": "cd7AwEHsHq8m",
        "outputId": "e5cab351-a55e-4fc3-b842-970eefbeee83"
      },
      "execution_count": null,
      "outputs": [
        {
          "output_type": "display_data",
          "data": {
            "text/html": [
              "<table class=\"dataframe\">\n",
              "<caption>A tibble: 5 × 2</caption>\n",
              "<thead>\n",
              "\t<tr><th scope=col>region</th><th scope=col>revenue</th></tr>\n",
              "\t<tr><th scope=col>&lt;chr&gt;</th><th scope=col>&lt;dbl&gt;</th></tr>\n",
              "</thead>\n",
              "<tbody>\n",
              "\t<tr><td>Latin America                              </td><td>2373439</td></tr>\n",
              "\t<tr><td>Asia                                       </td><td>1974550</td></tr>\n",
              "\t<tr><td>US/Canada                                  </td><td>1583260</td></tr>\n",
              "\t<tr><td>Europe, Middle East, &amp; Africa (Non-English)</td><td>1317910</td></tr>\n",
              "\t<tr><td>Other English-Speaking Countries           </td><td>1135564</td></tr>\n",
              "</tbody>\n",
              "</table>\n"
            ],
            "text/markdown": "\nA tibble: 5 × 2\n\n| region &lt;chr&gt; | revenue &lt;dbl&gt; |\n|---|---|\n| Latin America                               | 2373439 |\n| Asia                                        | 1974550 |\n| US/Canada                                   | 1583260 |\n| Europe, Middle East, &amp; Africa (Non-English) | 1317910 |\n| Other English-Speaking Countries            | 1135564 |\n\n",
            "text/latex": "A tibble: 5 × 2\n\\begin{tabular}{ll}\n region & revenue\\\\\n <chr> & <dbl>\\\\\n\\hline\n\t Latin America                               & 2373439\\\\\n\t Asia                                        & 1974550\\\\\n\t US/Canada                                   & 1583260\\\\\n\t Europe, Middle East, \\& Africa (Non-English) & 1317910\\\\\n\t Other English-Speaking Countries            & 1135564\\\\\n\\end{tabular}\n",
            "text/plain": [
              "  region                                      revenue\n",
              "1 Latin America                               2373439\n",
              "2 Asia                                        1974550\n",
              "3 US/Canada                                   1583260\n",
              "4 Europe, Middle East, & Africa (Non-English) 1317910\n",
              "5 Other English-Speaking Countries            1135564"
            ]
          },
          "metadata": {}
        }
      ]
    },
    {
      "cell_type": "code",
      "source": [
        "fig(width = 13, heigth = 6.75)\n",
        "group_rev %>% ggplot(aes(y = revenue, x = region)) +\n",
        "              geom_col() +\n",
        "            theme_minimal(base_size = 18)+\n",
        "  theme_bw() +\n",
        "  theme(panel.grid.major = element_blank(), panel.grid.minor = element_blank())+\n",
        "  theme(legend.text=element_text(size=12 ,face=\"bold\"), legend.title=element_text(size=12 ,face=\"bold\"), axis.text=element_text(size=12 ,face=\"bold\"),\n",
        "        axis.title=element_text(size=14,face=\"bold\"))"
      ],
      "metadata": {
        "colab": {
          "base_uri": "https://localhost:8080/",
          "height": 422
        },
        "id": "KUjEnZuZU9ej",
        "outputId": "cad851da-b3ed-453f-ec19-59df66c7c75f"
      },
      "execution_count": null,
      "outputs": [
        {
          "output_type": "display_data",
          "data": {
            "text/plain": [
              "plot without title"
            ],
            "image/png": "[encoded data removed]"
          },
          "metadata": {
            "image/png": {
              "width": 780,
              "height": 405
            }
          }
        }
      ]
    },
    {
      "cell_type": "markdown",
      "source": [
        "### **2. Which channel had the highest revenue per visit? What was its revenue per visit?**"
      ],
      "metadata": {
        "id": "NUZw0JHYepkw"
      }
    },
    {
      "cell_type": "code",
      "source": [
        "data_df %>% drop_na(\"revenue\") %>%\n",
        "           arrange(desc(revenue)) %>%\n",
        "           head(1) %>%\n",
        "           select(c(\"channel\", \"revenue\"))"
      ],
      "metadata": {
        "colab": {
          "base_uri": "https://localhost:8080/",
          "height": 129
        },
        "id": "30ZZVJc2NlFW",
        "outputId": "36b3f59b-cad0-4523-fe06-eb09acbfdeb5"
      },
      "execution_count": null,
      "outputs": [
        {
          "output_type": "display_data",
          "data": {
            "text/html": [
              "<table class=\"dataframe\">\n",
              "<caption>A tibble: 1 × 2</caption>\n",
              "<thead>\n",
              "\t<tr><th scope=col>channel</th><th scope=col>revenue</th></tr>\n",
              "\t<tr><th scope=col>&lt;chr&gt;</th><th scope=col>&lt;dbl&gt;</th></tr>\n",
              "</thead>\n",
              "<tbody>\n",
              "\t<tr><td>display</td><td>2427.29</td></tr>\n",
              "</tbody>\n",
              "</table>\n"
            ],
            "text/markdown": "\nA tibble: 1 × 2\n\n| channel &lt;chr&gt; | revenue &lt;dbl&gt; |\n|---|---|\n| display | 2427.29 |\n\n",
            "text/latex": "A tibble: 1 × 2\n\\begin{tabular}{ll}\n channel & revenue\\\\\n <chr> & <dbl>\\\\\n\\hline\n\t display & 2427.29\\\\\n\\end{tabular}\n",
            "text/plain": [
              "  channel revenue\n",
              "1 display 2427.29"
            ]
          },
          "metadata": {}
        }
      ]
    },
    {
      "cell_type": "markdown",
      "source": [
        "## The display channel had the highest revenue per visit and it generated $2427.29 per visit."
      ],
      "metadata": {
        "id": "vnnhrGlvRChN"
      }
    },
    {
      "cell_type": "markdown",
      "source": [
        "### **3. Which landing page had the highest overall conversion rate (% of visitors that go on to become paying subscribers)? What was its conversion rate?**"
      ],
      "metadata": {
        "id": "RIA9wNFjfEPm"
      }
    },
    {
      "cell_type": "code",
      "source": [
        "landing_page_conversion_rate =  data_df %>% \n",
        "            mutate(subscription_status = ifelse(is.na(subscription_start_date), 0,1)) %>%\n",
        "            group_by(landing_page) %>%\n",
        "            summarise( count = n(), conversion_rate = (sum(subscription_status)/ count) * 100, conversion_rate =  round(conversion_rate,2), .groups = 'drop') %>% \n",
        "            arrange(desc(conversion_rate))\n",
        "landing_page_conversion_rate"
      ],
      "metadata": {
        "colab": {
          "base_uri": "https://localhost:8080/",
          "height": 411
        },
        "id": "GiOBDZOHblet",
        "outputId": "bc890609-edac-4a68-ca9f-90aa1dbd4167"
      },
      "execution_count": null,
      "outputs": [
        {
          "output_type": "display_data",
          "data": {
            "text/html": [
              "<table class=\"dataframe\">\n",
              "<caption>A tibble: 10 × 3</caption>\n",
              "<thead>\n",
              "\t<tr><th scope=col>landing_page</th><th scope=col>count</th><th scope=col>conversion_rate</th></tr>\n",
              "\t<tr><th scope=col>&lt;chr&gt;</th><th scope=col>&lt;int&gt;</th><th scope=col>&lt;dbl&gt;</th></tr>\n",
              "</thead>\n",
              "<tbody>\n",
              "\t<tr><td>H</td><td> 773</td><td>65.72</td></tr>\n",
              "\t<tr><td>A</td><td>1469</td><td>62.63</td></tr>\n",
              "\t<tr><td>I</td><td>1253</td><td>62.25</td></tr>\n",
              "\t<tr><td>G</td><td> 950</td><td>61.89</td></tr>\n",
              "\t<tr><td>E</td><td>3006</td><td>61.11</td></tr>\n",
              "\t<tr><td>C</td><td>1096</td><td>58.67</td></tr>\n",
              "\t<tr><td>J</td><td>1232</td><td>58.36</td></tr>\n",
              "\t<tr><td>F</td><td> 464</td><td>57.76</td></tr>\n",
              "\t<tr><td>D</td><td>1751</td><td>57.51</td></tr>\n",
              "\t<tr><td>B</td><td>1618</td><td>56.24</td></tr>\n",
              "</tbody>\n",
              "</table>\n"
            ],
            "text/markdown": "\nA tibble: 10 × 3\n\n| landing_page &lt;chr&gt; | count &lt;int&gt; | conversion_rate &lt;dbl&gt; |\n|---|---|---|\n| H |  773 | 65.72 |\n| A | 1469 | 62.63 |\n| I | 1253 | 62.25 |\n| G |  950 | 61.89 |\n| E | 3006 | 61.11 |\n| C | 1096 | 58.67 |\n| J | 1232 | 58.36 |\n| F |  464 | 57.76 |\n| D | 1751 | 57.51 |\n| B | 1618 | 56.24 |\n\n",
            "text/latex": "A tibble: 10 × 3\n\\begin{tabular}{lll}\n landing\\_page & count & conversion\\_rate\\\\\n <chr> & <int> & <dbl>\\\\\n\\hline\n\t H &  773 & 65.72\\\\\n\t A & 1469 & 62.63\\\\\n\t I & 1253 & 62.25\\\\\n\t G &  950 & 61.89\\\\\n\t E & 3006 & 61.11\\\\\n\t C & 1096 & 58.67\\\\\n\t J & 1232 & 58.36\\\\\n\t F &  464 & 57.76\\\\\n\t D & 1751 & 57.51\\\\\n\t B & 1618 & 56.24\\\\\n\\end{tabular}\n",
            "text/plain": [
              "   landing_page count conversion_rate\n",
              "1  H             773  65.72          \n",
              "2  A            1469  62.63          \n",
              "3  I            1253  62.25          \n",
              "4  G             950  61.89          \n",
              "5  E            3006  61.11          \n",
              "6  C            1096  58.67          \n",
              "7  J            1232  58.36          \n",
              "8  F             464  57.76          \n",
              "9  D            1751  57.51          \n",
              "10 B            1618  56.24          "
            ]
          },
          "metadata": {}
        }
      ]
    },
    {
      "cell_type": "code",
      "source": [
        "fig(width = 10, heigth = 6)\n",
        "landing_page_conversion_rate %>% ggplot(aes(y = conversion_rate, x = landing_page)) +\n",
        "              geom_col() +\n",
        "            theme_minimal(base_size = 18)+\n",
        "            labs(x = \"Landing page\", y = \"Overall conversion rate\") +\n",
        "  theme_bw() +\n",
        "  theme(panel.grid.major = element_blank(), panel.grid.minor = element_blank())+\n",
        "  theme(legend.text=element_text(size=12 ,face=\"bold\"), legend.title=element_text(size=12 ,face=\"bold\"), axis.text=element_text(size=12 ,face=\"bold\"),\n",
        "        axis.title=element_text(size=14,face=\"bold\"))"
      ],
      "metadata": {
        "colab": {
          "base_uri": "https://localhost:8080/",
          "height": 377
        },
        "id": "tG4yaJo6Q6Mb",
        "outputId": "2730da1d-bbf3-471f-ddc0-13882d887992"
      },
      "execution_count": null,
      "outputs": [
        {
          "output_type": "display_data",
          "data": {
            "text/plain": [
              "plot without title"
            ],
            "image/png": "[encoded data removed]"
          },
          "metadata": {
            "image/png": {
              "width": 600,
              "height": 360
            }
          }
        }
      ]
    },
    {
      "cell_type": "markdown",
      "source": [
        "## The \"D\" landing page had the highest overall conversion rate."
      ],
      "metadata": {
        "id": "8iwfr_gvRZoV"
      }
    },
    {
      "cell_type": "markdown",
      "source": [
        "### **4. Did any regions have a different top converting landing page (as compared to the previous answer)? If so, please list them along with their top landing page and its conversion rate.**"
      ],
      "metadata": {
        "id": "rBXYI5awglB1"
      }
    },
    {
      "cell_type": "code",
      "source": [
        "landing_page_conversion_rate =  data_df %>% \n",
        "            mutate(subscription_status = ifelse(is.na(subscription_start_date), 0,1)) %>%\n",
        "            group_by(region,landing_page) %>%\n",
        "            summarise( count = n(), conversion_rate = (sum(!is.na(subscription_start_date))/ count) * 100, conversion_rate =  round(conversion_rate,2)) %>% arrange(desc(conversion_rate), .by_group = TRUE)\n",
        "landing_page_conversion_rate  %>% top_n(1)"
      ],
      "metadata": {
        "colab": {
          "base_uri": "https://localhost:8080/",
          "height": 308
        },
        "id": "AAdwFs9VYDbj",
        "outputId": "3849e60d-c97e-4c4b-a832-8410822b1d58"
      },
      "execution_count": null,
      "outputs": [
        {
          "output_type": "stream",
          "name": "stderr",
          "text": [
            "\u001b[1m\u001b[22m`summarise()` has grouped output by 'region'. You can override using the\n",
            "`.groups` argument.\n",
            "\u001b[1m\u001b[22mSelecting by conversion_rate\n"
          ]
        },
        {
          "output_type": "display_data",
          "data": {
            "text/html": [
              "<table class=\"dataframe\">\n",
              "<caption>A grouped_df: 5 × 4</caption>\n",
              "<thead>\n",
              "\t<tr><th scope=col>region</th><th scope=col>landing_page</th><th scope=col>count</th><th scope=col>conversion_rate</th></tr>\n",
              "\t<tr><th scope=col>&lt;chr&gt;</th><th scope=col>&lt;chr&gt;</th><th scope=col>&lt;int&gt;</th><th scope=col>&lt;dbl&gt;</th></tr>\n",
              "</thead>\n",
              "<tbody>\n",
              "\t<tr><td>Asia                                       </td><td>H</td><td>118</td><td>69.49</td></tr>\n",
              "\t<tr><td>Europe, Middle East, &amp; Africa (Non-English)</td><td>J</td><td>247</td><td>64.78</td></tr>\n",
              "\t<tr><td>Latin America                              </td><td>E</td><td>628</td><td>69.27</td></tr>\n",
              "\t<tr><td>Other English-Speaking Countries           </td><td>I</td><td>116</td><td>65.52</td></tr>\n",
              "\t<tr><td>US/Canada                                  </td><td>H</td><td>167</td><td>68.86</td></tr>\n",
              "</tbody>\n",
              "</table>\n"
            ],
            "text/markdown": "\nA grouped_df: 5 × 4\n\n| region &lt;chr&gt; | landing_page &lt;chr&gt; | count &lt;int&gt; | conversion_rate &lt;dbl&gt; |\n|---|---|---|---|\n| Asia                                        | H | 118 | 69.49 |\n| Europe, Middle East, &amp; Africa (Non-English) | J | 247 | 64.78 |\n| Latin America                               | E | 628 | 69.27 |\n| Other English-Speaking Countries            | I | 116 | 65.52 |\n| US/Canada                                   | H | 167 | 68.86 |\n\n",
            "text/latex": "A grouped\\_df: 5 × 4\n\\begin{tabular}{llll}\n region & landing\\_page & count & conversion\\_rate\\\\\n <chr> & <chr> & <int> & <dbl>\\\\\n\\hline\n\t Asia                                        & H & 118 & 69.49\\\\\n\t Europe, Middle East, \\& Africa (Non-English) & J & 247 & 64.78\\\\\n\t Latin America                               & E & 628 & 69.27\\\\\n\t Other English-Speaking Countries            & I & 116 & 65.52\\\\\n\t US/Canada                                   & H & 167 & 68.86\\\\\n\\end{tabular}\n",
            "text/plain": [
              "  region                                      landing_page count\n",
              "1 Asia                                        H            118  \n",
              "2 Europe, Middle East, & Africa (Non-English) J            247  \n",
              "3 Latin America                               E            628  \n",
              "4 Other English-Speaking Countries            I            116  \n",
              "5 US/Canada                                   H            167  \n",
              "  conversion_rate\n",
              "1 69.49          \n",
              "2 64.78          \n",
              "3 69.27          \n",
              "4 65.52          \n",
              "5 68.86          "
            ]
          },
          "metadata": {}
        }
      ]
    },
    {
      "cell_type": "markdown",
      "source": [
        "## From the table above, the landing page (H) for US/Canada region has a different top landing page  and the conversion rate is 19.20%"
      ],
      "metadata": {
        "id": "hYdraBoUZwoA"
      }
    },
    {
      "cell_type": "code",
      "source": [
        "landing_page_conversion_rate  %>% top_n(2)"
      ],
      "metadata": {
        "colab": {
          "base_uri": "https://localhost:8080/",
          "height": 429
        },
        "id": "S5YP9PJOagNV",
        "outputId": "1108f59d-b0a0-49f4-ebbc-de9b63579a20"
      },
      "execution_count": null,
      "outputs": [
        {
          "output_type": "stream",
          "name": "stderr",
          "text": [
            "\u001b[1m\u001b[22mSelecting by conversion_rate\n"
          ]
        },
        {
          "output_type": "display_data",
          "data": {
            "text/html": [
              "<table class=\"dataframe\">\n",
              "<caption>A grouped_df: 10 × 4</caption>\n",
              "<thead>\n",
              "\t<tr><th scope=col>region</th><th scope=col>landing_page</th><th scope=col>count</th><th scope=col>conversion_rate</th></tr>\n",
              "\t<tr><th scope=col>&lt;chr&gt;</th><th scope=col>&lt;chr&gt;</th><th scope=col>&lt;int&gt;</th><th scope=col>&lt;dbl&gt;</th></tr>\n",
              "</thead>\n",
              "<tbody>\n",
              "\t<tr><td>Asia                                       </td><td>H</td><td>118</td><td>69.49</td></tr>\n",
              "\t<tr><td>Asia                                       </td><td>F</td><td>101</td><td>64.36</td></tr>\n",
              "\t<tr><td>Europe, Middle East, &amp; Africa (Non-English)</td><td>J</td><td>247</td><td>64.78</td></tr>\n",
              "\t<tr><td>Europe, Middle East, &amp; Africa (Non-English)</td><td>A</td><td>339</td><td>63.42</td></tr>\n",
              "\t<tr><td>Latin America                              </td><td>E</td><td>628</td><td>69.27</td></tr>\n",
              "\t<tr><td>Latin America                              </td><td>I</td><td>298</td><td>68.46</td></tr>\n",
              "\t<tr><td>Other English-Speaking Countries           </td><td>I</td><td>116</td><td>65.52</td></tr>\n",
              "\t<tr><td>Other English-Speaking Countries           </td><td>H</td><td>133</td><td>63.91</td></tr>\n",
              "\t<tr><td>US/Canada                                  </td><td>H</td><td>167</td><td>68.86</td></tr>\n",
              "\t<tr><td>US/Canada                                  </td><td>G</td><td>246</td><td>60.57</td></tr>\n",
              "</tbody>\n",
              "</table>\n"
            ],
            "text/markdown": "\nA grouped_df: 10 × 4\n\n| region &lt;chr&gt; | landing_page &lt;chr&gt; | count &lt;int&gt; | conversion_rate &lt;dbl&gt; |\n|---|---|---|---|\n| Asia                                        | H | 118 | 69.49 |\n| Asia                                        | F | 101 | 64.36 |\n| Europe, Middle East, &amp; Africa (Non-English) | J | 247 | 64.78 |\n| Europe, Middle East, &amp; Africa (Non-English) | A | 339 | 63.42 |\n| Latin America                               | E | 628 | 69.27 |\n| Latin America                               | I | 298 | 68.46 |\n| Other English-Speaking Countries            | I | 116 | 65.52 |\n| Other English-Speaking Countries            | H | 133 | 63.91 |\n| US/Canada                                   | H | 167 | 68.86 |\n| US/Canada                                   | G | 246 | 60.57 |\n\n",
            "text/latex": "A grouped\\_df: 10 × 4\n\\begin{tabular}{llll}\n region & landing\\_page & count & conversion\\_rate\\\\\n <chr> & <chr> & <int> & <dbl>\\\\\n\\hline\n\t Asia                                        & H & 118 & 69.49\\\\\n\t Asia                                        & F & 101 & 64.36\\\\\n\t Europe, Middle East, \\& Africa (Non-English) & J & 247 & 64.78\\\\\n\t Europe, Middle East, \\& Africa (Non-English) & A & 339 & 63.42\\\\\n\t Latin America                               & E & 628 & 69.27\\\\\n\t Latin America                               & I & 298 & 68.46\\\\\n\t Other English-Speaking Countries            & I & 116 & 65.52\\\\\n\t Other English-Speaking Countries            & H & 133 & 63.91\\\\\n\t US/Canada                                   & H & 167 & 68.86\\\\\n\t US/Canada                                   & G & 246 & 60.57\\\\\n\\end{tabular}\n",
            "text/plain": [
              "   region                                      landing_page count\n",
              "1  Asia                                        H            118  \n",
              "2  Asia                                        F            101  \n",
              "3  Europe, Middle East, & Africa (Non-English) J            247  \n",
              "4  Europe, Middle East, & Africa (Non-English) A            339  \n",
              "5  Latin America                               E            628  \n",
              "6  Latin America                               I            298  \n",
              "7  Other English-Speaking Countries            I            116  \n",
              "8  Other English-Speaking Countries            H            133  \n",
              "9  US/Canada                                   H            167  \n",
              "10 US/Canada                                   G            246  \n",
              "   conversion_rate\n",
              "1  69.49          \n",
              "2  64.36          \n",
              "3  64.78          \n",
              "4  63.42          \n",
              "5  69.27          \n",
              "6  68.46          \n",
              "7  65.52          \n",
              "8  63.91          \n",
              "9  68.86          \n",
              "10 60.57          "
            ]
          },
          "metadata": {}
        }
      ]
    },
    {
      "cell_type": "markdown",
      "source": [
        "### **5. Which region had the highest direct subscription rate (% of visitors that start a subscription directly without doing a trial)? What was its direct subscription rate?**"
      ],
      "metadata": {
        "id": "xzs3FbJLf_FX"
      }
    },
    {
      "cell_type": "code",
      "source": [
        "direct_subscription_rate_per_region =  data_df %>% \n",
        "             mutate(subscription_without_trial = (!is.na(subscription_start_date)) * is.na(trial_start_date)) %>%\n",
        "             group_by(region) %>%\n",
        "             summarise( count = n(), direct_subscription_rate = (sum(subscription_without_trial)/ count) * 100, direct_subscription_rate =  round(direct_subscription_rate,2), .groups = 'drop') %>%\n",
        "             arrange(desc(direct_subscription_rate))\n",
        "direct_subscription_rate_per_region"
      ],
      "metadata": {
        "colab": {
          "base_uri": "https://localhost:8080/",
          "height": 255
        },
        "id": "1-E6JVpbhrnk",
        "outputId": "e3224d76-ddaf-42a4-aee2-52b4833337fb"
      },
      "execution_count": null,
      "outputs": [
        {
          "output_type": "display_data",
          "data": {
            "text/html": [
              "<table class=\"dataframe\">\n",
              "<caption>A tibble: 5 × 3</caption>\n",
              "<thead>\n",
              "\t<tr><th scope=col>region</th><th scope=col>count</th><th scope=col>direct_subscription_rate</th></tr>\n",
              "\t<tr><th scope=col>&lt;chr&gt;</th><th scope=col>&lt;int&gt;</th><th scope=col>&lt;dbl&gt;</th></tr>\n",
              "</thead>\n",
              "<tbody>\n",
              "\t<tr><td>Asia                                       </td><td>2836</td><td>36.74</td></tr>\n",
              "\t<tr><td>Latin America                              </td><td>3318</td><td>33.79</td></tr>\n",
              "\t<tr><td>US/Canada                                  </td><td>3036</td><td>28.99</td></tr>\n",
              "\t<tr><td>Europe, Middle East, &amp; Africa (Non-English)</td><td>2369</td><td>26.55</td></tr>\n",
              "\t<tr><td>Other English-Speaking Countries           </td><td>2053</td><td>25.13</td></tr>\n",
              "</tbody>\n",
              "</table>\n"
            ],
            "text/markdown": "\nA tibble: 5 × 3\n\n| region &lt;chr&gt; | count &lt;int&gt; | direct_subscription_rate &lt;dbl&gt; |\n|---|---|---|\n| Asia                                        | 2836 | 36.74 |\n| Latin America                               | 3318 | 33.79 |\n| US/Canada                                   | 3036 | 28.99 |\n| Europe, Middle East, &amp; Africa (Non-English) | 2369 | 26.55 |\n| Other English-Speaking Countries            | 2053 | 25.13 |\n\n",
            "text/latex": "A tibble: 5 × 3\n\\begin{tabular}{lll}\n region & count & direct\\_subscription\\_rate\\\\\n <chr> & <int> & <dbl>\\\\\n\\hline\n\t Asia                                        & 2836 & 36.74\\\\\n\t Latin America                               & 3318 & 33.79\\\\\n\t US/Canada                                   & 3036 & 28.99\\\\\n\t Europe, Middle East, \\& Africa (Non-English) & 2369 & 26.55\\\\\n\t Other English-Speaking Countries            & 2053 & 25.13\\\\\n\\end{tabular}\n",
            "text/plain": [
              "  region                                      count direct_subscription_rate\n",
              "1 Asia                                        2836  36.74                   \n",
              "2 Latin America                               3318  33.79                   \n",
              "3 US/Canada                                   3036  28.99                   \n",
              "4 Europe, Middle East, & Africa (Non-English) 2369  26.55                   \n",
              "5 Other English-Speaking Countries            2053  25.13                   "
            ]
          },
          "metadata": {}
        }
      ]
    },
    {
      "cell_type": "markdown",
      "source": [
        "## The Asian region had the highest direct subscription rate of 10.03%"
      ],
      "metadata": {
        "id": "NOA705SUSOlg"
      }
    },
    {
      "cell_type": "markdown",
      "source": [
        "### **6. Which region had the highest trial start rate (% of visitors that start a trial, regardless of whether those users ultimately cancel or become paying subscribers)? What was its trial start rate?**"
      ],
      "metadata": {
        "id": "f7dRhXCyoWWM"
      }
    },
    {
      "cell_type": "code",
      "source": [
        "trial_start_rate_per_region =  data_df %>% \n",
        "            group_by(region) %>%\n",
        "            summarise( count = n(), trial_start_rate = (sum(!is.na(trial_start_date))/ count) * 100, trial_start_rate =  round(trial_start_rate,2), .groups = 'drop') %>%\n",
        "            arrange(desc(trial_start_rate))\n",
        "trial_start_rate_per_region"
      ],
      "metadata": {
        "id": "82198O-4gZfP",
        "colab": {
          "base_uri": "https://localhost:8080/",
          "height": 255
        },
        "outputId": "a7e5261c-24ff-41fc-a820-aed766e834b5"
      },
      "execution_count": null,
      "outputs": [
        {
          "output_type": "display_data",
          "data": {
            "text/html": [
              "<table class=\"dataframe\">\n",
              "<caption>A tibble: 5 × 3</caption>\n",
              "<thead>\n",
              "\t<tr><th scope=col>region</th><th scope=col>count</th><th scope=col>trial_start_rate</th></tr>\n",
              "\t<tr><th scope=col>&lt;chr&gt;</th><th scope=col>&lt;int&gt;</th><th scope=col>&lt;dbl&gt;</th></tr>\n",
              "</thead>\n",
              "<tbody>\n",
              "\t<tr><td>Other English-Speaking Countries           </td><td>2053</td><td>74.87</td></tr>\n",
              "\t<tr><td>Europe, Middle East, &amp; Africa (Non-English)</td><td>2369</td><td>73.45</td></tr>\n",
              "\t<tr><td>US/Canada                                  </td><td>3036</td><td>71.01</td></tr>\n",
              "\t<tr><td>Latin America                              </td><td>3318</td><td>66.21</td></tr>\n",
              "\t<tr><td>Asia                                       </td><td>2836</td><td>63.26</td></tr>\n",
              "</tbody>\n",
              "</table>\n"
            ],
            "text/markdown": "\nA tibble: 5 × 3\n\n| region &lt;chr&gt; | count &lt;int&gt; | trial_start_rate &lt;dbl&gt; |\n|---|---|---|\n| Other English-Speaking Countries            | 2053 | 74.87 |\n| Europe, Middle East, &amp; Africa (Non-English) | 2369 | 73.45 |\n| US/Canada                                   | 3036 | 71.01 |\n| Latin America                               | 3318 | 66.21 |\n| Asia                                        | 2836 | 63.26 |\n\n",
            "text/latex": "A tibble: 5 × 3\n\\begin{tabular}{lll}\n region & count & trial\\_start\\_rate\\\\\n <chr> & <int> & <dbl>\\\\\n\\hline\n\t Other English-Speaking Countries            & 2053 & 74.87\\\\\n\t Europe, Middle East, \\& Africa (Non-English) & 2369 & 73.45\\\\\n\t US/Canada                                   & 3036 & 71.01\\\\\n\t Latin America                               & 3318 & 66.21\\\\\n\t Asia                                        & 2836 & 63.26\\\\\n\\end{tabular}\n",
            "text/plain": [
              "  region                                      count trial_start_rate\n",
              "1 Other English-Speaking Countries            2053  74.87           \n",
              "2 Europe, Middle East, & Africa (Non-English) 2369  73.45           \n",
              "3 US/Canada                                   3036  71.01           \n",
              "4 Latin America                               3318  66.21           \n",
              "5 Asia                                        2836  63.26           "
            ]
          },
          "metadata": {}
        }
      ]
    },
    {
      "cell_type": "markdown",
      "source": [
        "## The Other English-Speaking Countries region had the highest trial start rate of 23.15%"
      ],
      "metadata": {
        "id": "j9He6pfrShb7"
      }
    },
    {
      "cell_type": "markdown",
      "source": [
        "### **7. Which region had the highest trial conversion rate (% of trials that start a subscription)? What was its trial conversion rate?**"
      ],
      "metadata": {
        "id": "EMWT0SEUpWyq"
      }
    },
    {
      "cell_type": "code",
      "source": [
        "trial_conversion_rate_per_region =  data_df %>% \n",
        "            mutate(trial_then_subscription = (!is.na(subscription_start_date)) * (!is.na(trial_start_date))) %>%\n",
        "             group_by(region) %>%\n",
        "             summarise( count = n(), trial_conversion_rate = (sum(trial_then_subscription)/ count) * 100, trial_conversion_rate =  round(trial_conversion_rate,2), .groups = 'drop') %>%\n",
        "            arrange(desc(trial_conversion_rate))\n",
        "trial_conversion_rate_per_region"
      ],
      "metadata": {
        "colab": {
          "base_uri": "https://localhost:8080/",
          "height": 255
        },
        "id": "HyCHstFFpO5B",
        "outputId": "66a8c9a5-0b8a-46c3-e2a0-d8bd0e8a97ce"
      },
      "execution_count": null,
      "outputs": [
        {
          "output_type": "display_data",
          "data": {
            "text/html": [
              "<table class=\"dataframe\">\n",
              "<caption>A tibble: 5 × 3</caption>\n",
              "<thead>\n",
              "\t<tr><th scope=col>region</th><th scope=col>count</th><th scope=col>trial_conversion_rate</th></tr>\n",
              "\t<tr><th scope=col>&lt;chr&gt;</th><th scope=col>&lt;int&gt;</th><th scope=col>&lt;dbl&gt;</th></tr>\n",
              "</thead>\n",
              "<tbody>\n",
              "\t<tr><td>Europe, Middle East, &amp; Africa (Non-English)</td><td>2369</td><td>32.80</td></tr>\n",
              "\t<tr><td>Other English-Speaking Countries           </td><td>2053</td><td>32.49</td></tr>\n",
              "\t<tr><td>Latin America                              </td><td>3318</td><td>30.68</td></tr>\n",
              "\t<tr><td>US/Canada                                  </td><td>3036</td><td>26.78</td></tr>\n",
              "\t<tr><td>Asia                                       </td><td>2836</td><td>25.28</td></tr>\n",
              "</tbody>\n",
              "</table>\n"
            ],
            "text/markdown": "\nA tibble: 5 × 3\n\n| region &lt;chr&gt; | count &lt;int&gt; | trial_conversion_rate &lt;dbl&gt; |\n|---|---|---|\n| Europe, Middle East, &amp; Africa (Non-English) | 2369 | 32.80 |\n| Other English-Speaking Countries            | 2053 | 32.49 |\n| Latin America                               | 3318 | 30.68 |\n| US/Canada                                   | 3036 | 26.78 |\n| Asia                                        | 2836 | 25.28 |\n\n",
            "text/latex": "A tibble: 5 × 3\n\\begin{tabular}{lll}\n region & count & trial\\_conversion\\_rate\\\\\n <chr> & <int> & <dbl>\\\\\n\\hline\n\t Europe, Middle East, \\& Africa (Non-English) & 2369 & 32.80\\\\\n\t Other English-Speaking Countries            & 2053 & 32.49\\\\\n\t Latin America                               & 3318 & 30.68\\\\\n\t US/Canada                                   & 3036 & 26.78\\\\\n\t Asia                                        & 2836 & 25.28\\\\\n\\end{tabular}\n",
            "text/plain": [
              "  region                                      count trial_conversion_rate\n",
              "1 Europe, Middle East, & Africa (Non-English) 2369  32.80                \n",
              "2 Other English-Speaking Countries            2053  32.49                \n",
              "3 Latin America                               3318  30.68                \n",
              "4 US/Canada                                   3036  26.78                \n",
              "5 Asia                                        2836  25.28                "
            ]
          },
          "metadata": {}
        }
      ]
    },
    {
      "cell_type": "markdown",
      "source": [
        "## The Other English-Speaking Countries had highest trial conversion rate of 10.05%"
      ],
      "metadata": {
        "id": "BSOmlxLAS1ZB"
      }
    },
    {
      "cell_type": "markdown",
      "source": [
        "### **8. Suppose that the company has a goal to increase revenue from the US/Canada region by 20% over the next year. Provide at least 4 potential strategies we could employ to help us reach our goal (no supporting data analysis required—just ideas)**"
      ],
      "metadata": {
        "id": "HOdky7SQKrpB"
      }
    },
    {
      "cell_type": "markdown",
      "source": [
        "Based on my exploratory data and multivariate testing and power analysis, here are my recommendations on how Iroko TV can improve revenue by 20% in the US/Canda region.\n",
        "\n",
        "1. Although it appears landing pages D and H have the same conversion rates for the US/Canada region, the conversion rate from H is significantly better in a statistical sense. So it make sense to focus on using landing page H for visitors in this region.\n",
        "\n",
        "2. The data also suggest that visitors are more likely to end up subscribing (direct or post-trial) if they visit on Thurdays and Fridays. So perhaps, aggressively finding a way fro user to visit on these two day would yield more revenue.\n",
        "\n",
        "3. Likewise, days around the beginning of the month (1 & 3) middle of the month (15 &16)  and end of the month (20, 24, & 25) are days which the data suggest there is high conversion rate. Necessarily, focusing on these set of days would increase revenue.\n",
        "\n",
        "4. Since video appears to have the highest conversion rate, it makes sense to allocate more resources towards getting more visitors through the video channel. Based on the average revenue from the video channel which sits at roughly \\$790 compared to that of the organic search channel which is $930, there is an opportunity to increase revenue if more visitors are acquired via the video channel. \n"
      ],
      "metadata": {
        "id": "fzLe9xt-KqeL"
      }
    },
    {
      "cell_type": "code",
      "source": [
        "data_df_to_save = data_df %>% \n",
        "                  mutate(trial_then_subscription = (!is.na(subscription_start_date)) & (!is.na(trial_start_date)) ,\n",
        "                  subscription_without_trial = (!is.na(subscription_start_date)) & is.na(trial_start_date) ,\n",
        "                  subscription_status = ifelse(is.na(subscription_start_date), FALSE, TRUE),\n",
        "                  subscription_start_day_of_week = weekdays(subscription_start_date), \n",
        "                  subscription_end_day_of_week = weekdays(subscription_start_date),\n",
        "                  trial_start_day_of_week = weekdays(trial_start_date), \n",
        "                  trial_end_day_of_week = weekdays(trial_start_date),\n",
        "                  subcription_length = subscription_end_date -\tsubscription_start_date, \n",
        "                  trial_length = trial_end_date - trial_start_date)\n",
        "new_data = data_df_to_save        "
      ],
      "metadata": {
        "id": "dxetkVS1a9DW"
      },
      "execution_count": null,
      "outputs": []
    },
    {
      "cell_type": "code",
      "source": [
        " write_xlsx(data_df_to_save, \"iroko_df.xlsx\")   "
      ],
      "metadata": {
        "id": "qw6pqU-sd6yk"
      },
      "execution_count": null,
      "outputs": []
    },
    {
      "cell_type": "markdown",
      "source": [
        "## **Additional Data Analysis**"
      ],
      "metadata": {
        "id": "--PukOlh5vrr"
      }
    },
    {
      "cell_type": "code",
      "source": [
        "head(new_data[sample.int(dim(new_data)[1], 3),])"
      ],
      "metadata": {
        "colab": {
          "base_uri": "https://localhost:8080/",
          "height": 368
        },
        "id": "aU_UKBsTflh4",
        "outputId": "7f5e24f9-318b-4c81-c270-ec9632e105ff"
      },
      "execution_count": null,
      "outputs": [
        {
          "output_type": "display_data",
          "data": {
            "text/html": [
              "<table class=\"dataframe\">\n",
              "<caption>A tibble: 3 × 22</caption>\n",
              "<thead>\n",
              "\t<tr><th scope=col>subscription_id</th><th scope=col>account_id</th><th scope=col>subscription_start_date</th><th scope=col>subscription_end_date</th><th scope=col>trial_start_date</th><th scope=col>trial_end_date</th><th scope=col>revenue</th><th scope=col>visit_id</th><th scope=col>day</th><th scope=col>region</th><th scope=col>⋯</th><th scope=col>landing_page</th><th scope=col>trial_then_subscription</th><th scope=col>subscription_without_trial</th><th scope=col>subscription_status</th><th scope=col>subscription_start_day_of_week</th><th scope=col>subscription_end_day_of_week</th><th scope=col>trial_start_day_of_week</th><th scope=col>trial_end_day_of_week</th><th scope=col>subcription_length</th><th scope=col>trial_length</th></tr>\n",
              "\t<tr><th scope=col>&lt;chr&gt;</th><th scope=col>&lt;chr&gt;</th><th scope=col>&lt;dttm&gt;</th><th scope=col>&lt;dttm&gt;</th><th scope=col>&lt;dttm&gt;</th><th scope=col>&lt;dttm&gt;</th><th scope=col>&lt;dbl&gt;</th><th scope=col>&lt;chr&gt;</th><th scope=col>&lt;dttm&gt;</th><th scope=col>&lt;chr&gt;</th><th scope=col>⋯</th><th scope=col>&lt;chr&gt;</th><th scope=col>&lt;lgl&gt;</th><th scope=col>&lt;lgl&gt;</th><th scope=col>&lt;lgl&gt;</th><th scope=col>&lt;chr&gt;</th><th scope=col>&lt;chr&gt;</th><th scope=col>&lt;chr&gt;</th><th scope=col>&lt;chr&gt;</th><th scope=col>&lt;drtn&gt;</th><th scope=col>&lt;drtn&gt;</th></tr>\n",
              "</thead>\n",
              "<tbody>\n",
              "\t<tr><td>645d359c-169d-4c9f-b680-b61ff35e3ce9</td><td>e486f660-b56e-4f45-b6f4-32b83015f34f</td><td>NA</td><td>NA</td><td>2019-08-22</td><td>2019-08-29</td><td>     NA</td><td>e43a75d8-921a-4d03-b2f8-6b5480c6e983</td><td>2019-08-22</td><td>Asia                            </td><td>⋯</td><td>D</td><td>FALSE</td><td>FALSE</td><td>FALSE</td><td>NA       </td><td>NA       </td><td>Thursday </td><td>Thursday </td><td> NA days</td><td> 7 days</td></tr>\n",
              "\t<tr><td>a249dc22-680c-4e52-9628-a3f00a656284</td><td>1b0461b8-1c5e-4f0d-8b89-8da35fadf350</td><td>2019-06-05</td><td>2020-06-05</td><td>2019-05-29</td><td>2019-06-05</td><td> 793.50</td><td>f84a1859-9ad8-42c5-a3e5-06040c166b0e</td><td>2019-05-29</td><td>Other English-Speaking Countries</td><td>⋯</td><td>C</td><td> TRUE</td><td>FALSE</td><td> TRUE</td><td>Wednesday</td><td>Wednesday</td><td>Wednesday</td><td>Wednesday</td><td>366 days</td><td> 7 days</td></tr>\n",
              "\t<tr><td>fab3b536-ac4a-443f-8dd6-bb0ced0ce4b4</td><td>ee402213-235a-4c4b-86ef-107b9c337e94</td><td>2019-09-18</td><td>2020-09-18</td><td>NA</td><td>NA</td><td>1022.45</td><td>26bda92a-79bb-4060-b3c2-78302ea2bc73</td><td>2019-09-18</td><td>Latin America                   </td><td>⋯</td><td>J</td><td>FALSE</td><td> TRUE</td><td> TRUE</td><td>Wednesday</td><td>Wednesday</td><td>NA       </td><td>NA       </td><td>366 days</td><td>NA days</td></tr>\n",
              "</tbody>\n",
              "</table>\n"
            ],
            "text/markdown": "\nA tibble: 3 × 22\n\n| subscription_id &lt;chr&gt; | account_id &lt;chr&gt; | subscription_start_date &lt;dttm&gt; | subscription_end_date &lt;dttm&gt; | trial_start_date &lt;dttm&gt; | trial_end_date &lt;dttm&gt; | revenue &lt;dbl&gt; | visit_id &lt;chr&gt; | day &lt;dttm&gt; | region &lt;chr&gt; | ⋯ ⋯ | landing_page &lt;chr&gt; | trial_then_subscription &lt;lgl&gt; | subscription_without_trial &lt;lgl&gt; | subscription_status &lt;lgl&gt; | subscription_start_day_of_week &lt;chr&gt; | subscription_end_day_of_week &lt;chr&gt; | trial_start_day_of_week &lt;chr&gt; | trial_end_day_of_week &lt;chr&gt; | subcription_length &lt;drtn&gt; | trial_length &lt;drtn&gt; |\n|---|---|---|---|---|---|---|---|---|---|---|---|---|---|---|---|---|---|---|---|---|\n| 645d359c-169d-4c9f-b680-b61ff35e3ce9 | e486f660-b56e-4f45-b6f4-32b83015f34f | NA | NA | 2019-08-22 | 2019-08-29 |      NA | e43a75d8-921a-4d03-b2f8-6b5480c6e983 | 2019-08-22 | Asia                             | ⋯ | D | FALSE | FALSE | FALSE | NA        | NA        | Thursday  | Thursday  |  NA days |  7 days |\n| a249dc22-680c-4e52-9628-a3f00a656284 | 1b0461b8-1c5e-4f0d-8b89-8da35fadf350 | 2019-06-05 | 2020-06-05 | 2019-05-29 | 2019-06-05 |  793.50 | f84a1859-9ad8-42c5-a3e5-06040c166b0e | 2019-05-29 | Other English-Speaking Countries | ⋯ | C |  TRUE | FALSE |  TRUE | Wednesday | Wednesday | Wednesday | Wednesday | 366 days |  7 days |\n| fab3b536-ac4a-443f-8dd6-bb0ced0ce4b4 | ee402213-235a-4c4b-86ef-107b9c337e94 | 2019-09-18 | 2020-09-18 | NA | NA | 1022.45 | 26bda92a-79bb-4060-b3c2-78302ea2bc73 | 2019-09-18 | Latin America                    | ⋯ | J | FALSE |  TRUE |  TRUE | Wednesday | Wednesday | NA        | NA        | 366 days | NA days |\n\n",
            "text/latex": "A tibble: 3 × 22\n\\begin{tabular}{lllllllllllllllllllll}\n subscription\\_id & account\\_id & subscription\\_start\\_date & subscription\\_end\\_date & trial\\_start\\_date & trial\\_end\\_date & revenue & visit\\_id & day & region & ⋯ & landing\\_page & trial\\_then\\_subscription & subscription\\_without\\_trial & subscription\\_status & subscription\\_start\\_day\\_of\\_week & subscription\\_end\\_day\\_of\\_week & trial\\_start\\_day\\_of\\_week & trial\\_end\\_day\\_of\\_week & subcription\\_length & trial\\_length\\\\\n <chr> & <chr> & <dttm> & <dttm> & <dttm> & <dttm> & <dbl> & <chr> & <dttm> & <chr> & ⋯ & <chr> & <lgl> & <lgl> & <lgl> & <chr> & <chr> & <chr> & <chr> & <drtn> & <drtn>\\\\\n\\hline\n\t 645d359c-169d-4c9f-b680-b61ff35e3ce9 & e486f660-b56e-4f45-b6f4-32b83015f34f & NA & NA & 2019-08-22 & 2019-08-29 &      NA & e43a75d8-921a-4d03-b2f8-6b5480c6e983 & 2019-08-22 & Asia                             & ⋯ & D & FALSE & FALSE & FALSE & NA        & NA        & Thursday  & Thursday  &  NA days &  7 days\\\\\n\t a249dc22-680c-4e52-9628-a3f00a656284 & 1b0461b8-1c5e-4f0d-8b89-8da35fadf350 & 2019-06-05 & 2020-06-05 & 2019-05-29 & 2019-06-05 &  793.50 & f84a1859-9ad8-42c5-a3e5-06040c166b0e & 2019-05-29 & Other English-Speaking Countries & ⋯ & C &  TRUE & FALSE &  TRUE & Wednesday & Wednesday & Wednesday & Wednesday & 366 days &  7 days\\\\\n\t fab3b536-ac4a-443f-8dd6-bb0ced0ce4b4 & ee402213-235a-4c4b-86ef-107b9c337e94 & 2019-09-18 & 2020-09-18 & NA & NA & 1022.45 & 26bda92a-79bb-4060-b3c2-78302ea2bc73 & 2019-09-18 & Latin America                    & ⋯ & J & FALSE &  TRUE &  TRUE & Wednesday & Wednesday & NA        & NA        & 366 days & NA days\\\\\n\\end{tabular}\n",
            "text/plain": [
              "  subscription_id                      account_id                          \n",
              "1 645d359c-169d-4c9f-b680-b61ff35e3ce9 e486f660-b56e-4f45-b6f4-32b83015f34f\n",
              "2 a249dc22-680c-4e52-9628-a3f00a656284 1b0461b8-1c5e-4f0d-8b89-8da35fadf350\n",
              "3 fab3b536-ac4a-443f-8dd6-bb0ced0ce4b4 ee402213-235a-4c4b-86ef-107b9c337e94\n",
              "  subscription_start_date subscription_end_date trial_start_date trial_end_date\n",
              "1 <NA>                    <NA>                  2019-08-22       2019-08-29    \n",
              "2 2019-06-05              2020-06-05            2019-05-29       2019-06-05    \n",
              "3 2019-09-18              2020-09-18            <NA>             <NA>          \n",
              "  revenue visit_id                             day       \n",
              "1      NA e43a75d8-921a-4d03-b2f8-6b5480c6e983 2019-08-22\n",
              "2  793.50 f84a1859-9ad8-42c5-a3e5-06040c166b0e 2019-05-29\n",
              "3 1022.45 26bda92a-79bb-4060-b3c2-78302ea2bc73 2019-09-18\n",
              "  region                           ⋯ landing_page trial_then_subscription\n",
              "1 Asia                             ⋯ D            FALSE                  \n",
              "2 Other English-Speaking Countries ⋯ C             TRUE                  \n",
              "3 Latin America                    ⋯ J            FALSE                  \n",
              "  subscription_without_trial subscription_status subscription_start_day_of_week\n",
              "1 FALSE                      FALSE               NA                            \n",
              "2 FALSE                       TRUE               Wednesday                     \n",
              "3  TRUE                       TRUE               Wednesday                     \n",
              "  subscription_end_day_of_week trial_start_day_of_week trial_end_day_of_week\n",
              "1 NA                           Thursday                Thursday             \n",
              "2 Wednesday                    Wednesday               Wednesday            \n",
              "3 Wednesday                    NA                      NA                   \n",
              "  subcription_length trial_length\n",
              "1  NA days            7 days     \n",
              "2 366 days            7 days     \n",
              "3 366 days           NA days     "
            ]
          },
          "metadata": {}
        }
      ]
    },
    {
      "cell_type": "code",
      "source": [
        "US_Canada_data = new_data %>% filter(region == \"US/Canada\")\n",
        "dim(US_Canada_data)"
      ],
      "metadata": {
        "colab": {
          "base_uri": "https://localhost:8080/",
          "height": 34
        },
        "id": "KUuD4n08dnUp",
        "outputId": "5da9679a-4064-4d12-d592-ca5b8c712f38"
      },
      "execution_count": null,
      "outputs": [
        {
          "output_type": "display_data",
          "data": {
            "text/html": [
              "<style>\n",
              ".list-inline {list-style: none; margin:0; padding: 0}\n",
              ".list-inline>li {display: inline-block}\n",
              ".list-inline>li:not(:last-child)::after {content: \"\\00b7\"; padding: 0 .5ex}\n",
              "</style>\n",
              "<ol class=list-inline><li>3036</li><li>22</li></ol>\n"
            ],
            "text/markdown": "1. 3036\n2. 22\n\n\n",
            "text/latex": "\\begin{enumerate*}\n\\item 3036\n\\item 22\n\\end{enumerate*}\n",
            "text/plain": [
              "[1] 3036   22"
            ]
          },
          "metadata": {}
        }
      ]
    },
    {
      "cell_type": "code",
      "source": [
        "p_load(lubridate, powerMediation)"
      ],
      "metadata": {
        "id": "92C2t5MRs83_",
        "colab": {
          "base_uri": "https://localhost:8080/"
        },
        "outputId": "39907543-d9b4-4bb9-9dd3-8416bdfb51d4"
      },
      "execution_count": null,
      "outputs": [
        {
          "output_type": "stream",
          "name": "stderr",
          "text": [
            "Installing package into ‘/usr/local/lib/R/site-library’\n",
            "(as ‘lib’ is unspecified)\n",
            "\n",
            "\n",
            "powerMediation installed\n",
            "\n"
          ]
        }
      ]
    },
    {
      "cell_type": "code",
      "source": [
        "total_sample_size <- SSizeLogisticBin(p1 = 0.19,\n",
        "                                      p2 = 0.39,\n",
        "                                      B = 0.5,\n",
        "                                      alpha = 0.05,\n",
        "                                      power = 0.8)\n",
        "total_sample_size"
      ],
      "metadata": {
        "colab": {
          "base_uri": "https://localhost:8080/",
          "height": 34
        },
        "id": "lq39AgoDvXdH",
        "outputId": "2c1bab2a-11c7-4c78-dc77-6cd8f426b5f6"
      },
      "execution_count": null,
      "outputs": [
        {
          "output_type": "display_data",
          "data": {
            "text/html": [
              "160"
            ],
            "text/markdown": "160",
            "text/latex": "160",
            "text/plain": [
              "[1] 160"
            ]
          },
          "metadata": {}
        }
      ]
    },
    {
      "cell_type": "code",
      "source": [
        "US_Canada_Anova =  aov(revenue ~ landing_page, US_Canada_data)\n",
        "anova_summary( US_Canada_Anova )"
      ],
      "metadata": {
        "id": "9reyZ5CVh6kO"
      },
      "execution_count": null,
      "outputs": []
    },
    {
      "cell_type": "code",
      "source": [
        "US_Canada_Anova %>% tukey_hsd()"
      ],
      "metadata": {
        "id": "Vyxho4dWkFbA"
      },
      "execution_count": null,
      "outputs": []
    },
    {
      "cell_type": "code",
      "source": [
        "table(US_Canada_data$subscription_status)"
      ],
      "metadata": {
        "id": "L8PIxPsxtHfM"
      },
      "execution_count": null,
      "outputs": []
    },
    {
      "cell_type": "code",
      "source": [
        " US_Canada_data  %>% select(day, subscription_status) %>%\n",
        "  group_by(wday(day)) %>%\n",
        "  summarize(conversion_rate = mean(subscription_status))"
      ],
      "metadata": {
        "id": "6lJpFg9Li0Q2"
      },
      "execution_count": null,
      "outputs": []
    },
    {
      "cell_type": "code",
      "source": [
        " US_Canada_data  %>% select(day, subscription_status) %>%\n",
        "  group_by(mday(day)) %>%\n",
        "  summarize(conversion_rate = mean(subscription_status)) %>% arrange(desc(conversion_rate)) %>% top_n(10)"
      ],
      "metadata": {
        "id": "o1a67B86upZm"
      },
      "execution_count": null,
      "outputs": []
    },
    {
      "cell_type": "code",
      "source": [
        " US_Canada_data  %>% select(channel, subscription_status) %>%\n",
        "  group_by(channel) %>%\n",
        "  summarize(conversion_rate = mean(subscription_status)) %>% arrange(desc(conversion_rate)) %>% top_n(10)"
      ],
      "metadata": {
        "id": "ImB1NhVFxRj0"
      },
      "execution_count": null,
      "outputs": []
    },
    {
      "cell_type": "code",
      "source": [
        " US_Canada_revenue_by_channels = US_Canada_data  %>% select(channel, revenue) %>%\n",
        "  group_by(channel) %>%\n",
        "  summarize(sum_revenue = sum(revenue, na.rm = TRUE), avg_revenue = mean(revenue, na.rm = TRUE) ) %>% arrange(desc(sum_revenue))\n",
        "\n",
        "US_Canada_revenue_by_channels\n",
        "US_Canada_revenue_by_channels %>% arrange(desc(avg_revenue))"
      ],
      "metadata": {
        "id": "EU1Y1fICHr8a"
      },
      "execution_count": null,
      "outputs": []
    },
    {
      "cell_type": "code",
      "source": [
        "table(US_Canada_data$channel)"
      ],
      "metadata": {
        "id": "5YPICkn9G7BV"
      },
      "execution_count": null,
      "outputs": []
    },
    {
      "cell_type": "code",
      "source": [
        "US_Canada_Anova =  aov(revenue ~ channel, US_Canada_data)\n",
        "anova_summary( US_Canada_Anova )\n",
        "US_Canada_Anova %>% tukey_hsd() %>% arrange(group2)"
      ],
      "metadata": {
        "id": "rqjsNRIEGUw2"
      },
      "execution_count": null,
      "outputs": []
    }
  ]
}